{
 "cells": [
  {
   "cell_type": "code",
   "execution_count": 1,
   "metadata": {
    "_cell_guid": "b1076dfc-b9ad-4769-8c92-a6c4dae69d19",
    "_kg_hide-output": true,
    "_uuid": "8f2839f25d086af736a60e9eeb907d3b93b6e0e5",
    "execution": {
     "iopub.execute_input": "2020-08-17T01:33:35.222839Z",
     "iopub.status.busy": "2020-08-17T01:33:35.221922Z",
     "iopub.status.idle": "2020-08-17T01:34:19.214380Z",
     "shell.execute_reply": "2020-08-17T01:34:19.213483Z"
    },
    "papermill": {
     "duration": 44.019983,
     "end_time": "2020-08-17T01:34:19.214524",
     "exception": false,
     "start_time": "2020-08-17T01:33:35.194541",
     "status": "completed"
    },
    "tags": []
   },
   "outputs": [],
   "source": [
    "import numpy as np\n",
    "import pandas as pd\n",
    "import matplotlib.pyplot as plt\n",
    "%matplotlib inline\n",
    "import seaborn as sns\n",
    "import warnings\n",
    "warnings.filterwarnings('ignore')\n",
    "plt.style.use('ggplot')\n",
    "import os\n",
    "# for dirname, _, filenames in os.walk('/kaggle/input'):\n",
    "#     for filename in filenames:\n",
    "#         print(os.path.join(dirname, filename))\n",
    "import tensorflow as tf\n",
    "from tqdm.notebook import tqdm\n",
    "# from kaggle_datasets import KaggleDatasets\n",
    "from collections import Counter\n",
    "from tensorflow.keras import layers as L\n",
    "import sklearn"
   ]
  },
  {
   "cell_type": "code",
   "execution_count": 2,
   "metadata": {
    "execution": {
     "iopub.execute_input": "2020-08-17T01:34:19.571532Z",
     "iopub.status.busy": "2020-08-17T01:34:19.570713Z",
     "iopub.status.idle": "2020-08-17T01:34:30.969130Z",
     "shell.execute_reply": "2020-08-17T01:34:30.969721Z"
    },
    "papermill": {
     "duration": 11.577305,
     "end_time": "2020-08-17T01:34:30.969898",
     "exception": false,
     "start_time": "2020-08-17T01:34:19.392593",
     "status": "completed"
    },
    "tags": []
   },
   "outputs": [],
   "source": [
    "# !pip install -q efficientnet"
   ]
  },
  {
   "cell_type": "code",
   "execution_count": 3,
   "metadata": {
    "execution": {
     "iopub.execute_input": "2020-08-17T01:34:31.648330Z",
     "iopub.status.busy": "2020-08-17T01:34:31.647533Z",
     "iopub.status.idle": "2020-08-17T01:34:31.758971Z",
     "shell.execute_reply": "2020-08-17T01:34:31.758166Z"
    },
    "papermill": {
     "duration": 0.286254,
     "end_time": "2020-08-17T01:34:31.759100",
     "exception": false,
     "start_time": "2020-08-17T01:34:31.472846",
     "status": "completed"
    },
    "tags": []
   },
   "outputs": [],
   "source": [
    "train = pd.read_csv('./isicdata/datasets/train.csv')\n",
    "test = pd.read_csv('./isicdata/datasets/test.csv')"
   ]
  },
  {
   "cell_type": "code",
   "execution_count": 4,
   "metadata": {
    "_cell_guid": "79c7e3d0-c299-4dcb-8224-4455121ee9b0",
    "_uuid": "d629ff2d2480ee46fbb7e2d37f6b5fab8052498a",
    "execution": {
     "iopub.execute_input": "2020-08-17T01:34:32.114179Z",
     "iopub.status.busy": "2020-08-17T01:34:32.109603Z",
     "iopub.status.idle": "2020-08-17T01:34:32.128974Z",
     "shell.execute_reply": "2020-08-17T01:34:32.129571Z"
    },
    "papermill": {
     "duration": 0.20477,
     "end_time": "2020-08-17T01:34:32.129763",
     "exception": false,
     "start_time": "2020-08-17T01:34:31.924993",
     "status": "completed"
    },
    "tags": []
   },
   "outputs": [
    {
     "data": {
      "text/html": [
       "<div>\n",
       "<style scoped>\n",
       "    .dataframe tbody tr th:only-of-type {\n",
       "        vertical-align: middle;\n",
       "    }\n",
       "\n",
       "    .dataframe tbody tr th {\n",
       "        vertical-align: top;\n",
       "    }\n",
       "\n",
       "    .dataframe thead th {\n",
       "        text-align: right;\n",
       "    }\n",
       "</style>\n",
       "<table border=\"1\" class=\"dataframe\">\n",
       "  <thead>\n",
       "    <tr style=\"text-align: right;\">\n",
       "      <th></th>\n",
       "      <th>image_name</th>\n",
       "      <th>patient_id</th>\n",
       "      <th>sex</th>\n",
       "      <th>age_approx</th>\n",
       "      <th>anatom_site_general_challenge</th>\n",
       "      <th>diagnosis</th>\n",
       "      <th>benign_malignant</th>\n",
       "      <th>target</th>\n",
       "    </tr>\n",
       "  </thead>\n",
       "  <tbody>\n",
       "    <tr>\n",
       "      <th>0</th>\n",
       "      <td>ISIC_2637011</td>\n",
       "      <td>IP_7279968</td>\n",
       "      <td>male</td>\n",
       "      <td>45.0</td>\n",
       "      <td>head/neck</td>\n",
       "      <td>unknown</td>\n",
       "      <td>benign</td>\n",
       "      <td>0</td>\n",
       "    </tr>\n",
       "    <tr>\n",
       "      <th>1</th>\n",
       "      <td>ISIC_0015719</td>\n",
       "      <td>IP_3075186</td>\n",
       "      <td>female</td>\n",
       "      <td>45.0</td>\n",
       "      <td>upper extremity</td>\n",
       "      <td>unknown</td>\n",
       "      <td>benign</td>\n",
       "      <td>0</td>\n",
       "    </tr>\n",
       "    <tr>\n",
       "      <th>2</th>\n",
       "      <td>ISIC_0052212</td>\n",
       "      <td>IP_2842074</td>\n",
       "      <td>female</td>\n",
       "      <td>50.0</td>\n",
       "      <td>lower extremity</td>\n",
       "      <td>nevus</td>\n",
       "      <td>benign</td>\n",
       "      <td>0</td>\n",
       "    </tr>\n",
       "    <tr>\n",
       "      <th>3</th>\n",
       "      <td>ISIC_0068279</td>\n",
       "      <td>IP_6890425</td>\n",
       "      <td>female</td>\n",
       "      <td>45.0</td>\n",
       "      <td>head/neck</td>\n",
       "      <td>unknown</td>\n",
       "      <td>benign</td>\n",
       "      <td>0</td>\n",
       "    </tr>\n",
       "    <tr>\n",
       "      <th>4</th>\n",
       "      <td>ISIC_0074268</td>\n",
       "      <td>IP_8723313</td>\n",
       "      <td>female</td>\n",
       "      <td>55.0</td>\n",
       "      <td>upper extremity</td>\n",
       "      <td>unknown</td>\n",
       "      <td>benign</td>\n",
       "      <td>0</td>\n",
       "    </tr>\n",
       "  </tbody>\n",
       "</table>\n",
       "</div>"
      ],
      "text/plain": [
       "     image_name  patient_id     sex  age_approx anatom_site_general_challenge  \\\n",
       "0  ISIC_2637011  IP_7279968    male        45.0                     head/neck   \n",
       "1  ISIC_0015719  IP_3075186  female        45.0               upper extremity   \n",
       "2  ISIC_0052212  IP_2842074  female        50.0               lower extremity   \n",
       "3  ISIC_0068279  IP_6890425  female        45.0                     head/neck   \n",
       "4  ISIC_0074268  IP_8723313  female        55.0               upper extremity   \n",
       "\n",
       "  diagnosis benign_malignant  target  \n",
       "0   unknown           benign       0  \n",
       "1   unknown           benign       0  \n",
       "2     nevus           benign       0  \n",
       "3   unknown           benign       0  \n",
       "4   unknown           benign       0  "
      ]
     },
     "execution_count": 4,
     "metadata": {},
     "output_type": "execute_result"
    }
   ],
   "source": [
    "train.head()"
   ]
  },
  {
   "cell_type": "code",
   "execution_count": 5,
   "metadata": {
    "execution": {
     "iopub.execute_input": "2020-08-17T01:34:32.479576Z",
     "iopub.status.busy": "2020-08-17T01:34:32.478482Z",
     "iopub.status.idle": "2020-08-17T01:34:32.483186Z",
     "shell.execute_reply": "2020-08-17T01:34:32.482568Z"
    },
    "papermill": {
     "duration": 0.185393,
     "end_time": "2020-08-17T01:34:32.483313",
     "exception": false,
     "start_time": "2020-08-17T01:34:32.297920",
     "status": "completed"
    },
    "tags": []
   },
   "outputs": [
    {
     "data": {
      "text/html": [
       "<div>\n",
       "<style scoped>\n",
       "    .dataframe tbody tr th:only-of-type {\n",
       "        vertical-align: middle;\n",
       "    }\n",
       "\n",
       "    .dataframe tbody tr th {\n",
       "        vertical-align: top;\n",
       "    }\n",
       "\n",
       "    .dataframe thead th {\n",
       "        text-align: right;\n",
       "    }\n",
       "</style>\n",
       "<table border=\"1\" class=\"dataframe\">\n",
       "  <thead>\n",
       "    <tr style=\"text-align: right;\">\n",
       "      <th></th>\n",
       "      <th>image_name</th>\n",
       "      <th>patient_id</th>\n",
       "      <th>sex</th>\n",
       "      <th>age_approx</th>\n",
       "      <th>anatom_site_general_challenge</th>\n",
       "    </tr>\n",
       "  </thead>\n",
       "  <tbody>\n",
       "    <tr>\n",
       "      <th>0</th>\n",
       "      <td>ISIC_0052060</td>\n",
       "      <td>IP_3579794</td>\n",
       "      <td>male</td>\n",
       "      <td>70.0</td>\n",
       "      <td>NaN</td>\n",
       "    </tr>\n",
       "    <tr>\n",
       "      <th>1</th>\n",
       "      <td>ISIC_0052349</td>\n",
       "      <td>IP_7782715</td>\n",
       "      <td>male</td>\n",
       "      <td>40.0</td>\n",
       "      <td>lower extremity</td>\n",
       "    </tr>\n",
       "    <tr>\n",
       "      <th>2</th>\n",
       "      <td>ISIC_0058510</td>\n",
       "      <td>IP_7960270</td>\n",
       "      <td>female</td>\n",
       "      <td>55.0</td>\n",
       "      <td>torso</td>\n",
       "    </tr>\n",
       "    <tr>\n",
       "      <th>3</th>\n",
       "      <td>ISIC_0073313</td>\n",
       "      <td>IP_6375035</td>\n",
       "      <td>female</td>\n",
       "      <td>50.0</td>\n",
       "      <td>torso</td>\n",
       "    </tr>\n",
       "    <tr>\n",
       "      <th>4</th>\n",
       "      <td>ISIC_0073502</td>\n",
       "      <td>IP_0589375</td>\n",
       "      <td>female</td>\n",
       "      <td>45.0</td>\n",
       "      <td>lower extremity</td>\n",
       "    </tr>\n",
       "  </tbody>\n",
       "</table>\n",
       "</div>"
      ],
      "text/plain": [
       "     image_name  patient_id     sex  age_approx anatom_site_general_challenge\n",
       "0  ISIC_0052060  IP_3579794    male        70.0                           NaN\n",
       "1  ISIC_0052349  IP_7782715    male        40.0               lower extremity\n",
       "2  ISIC_0058510  IP_7960270  female        55.0                         torso\n",
       "3  ISIC_0073313  IP_6375035  female        50.0                         torso\n",
       "4  ISIC_0073502  IP_0589375  female        45.0               lower extremity"
      ]
     },
     "execution_count": 5,
     "metadata": {},
     "output_type": "execute_result"
    }
   ],
   "source": [
    "test.head()"
   ]
  },
  {
   "cell_type": "markdown",
   "metadata": {
    "papermill": {
     "duration": 0.165761,
     "end_time": "2020-08-17T01:34:32.815563",
     "exception": false,
     "start_time": "2020-08-17T01:34:32.649802",
     "status": "completed"
    },
    "tags": []
   },
   "source": [
    "Visualization of data is an imperative aspect of data science. It helps to understand data and also to explain it to another person. Python has several interesting visualization libraries such as Matplotlib, Seaborn etc"
   ]
  },
  {
   "cell_type": "code",
   "execution_count": 6,
   "metadata": {
    "execution": {
     "iopub.execute_input": "2020-08-17T01:35:24.695005Z",
     "iopub.status.busy": "2020-08-17T01:35:24.694262Z",
     "iopub.status.idle": "2020-08-17T01:35:24.731819Z",
     "shell.execute_reply": "2020-08-17T01:35:24.731071Z"
    },
    "papermill": {
     "duration": 0.252212,
     "end_time": "2020-08-17T01:35:24.731954",
     "exception": false,
     "start_time": "2020-08-17T01:35:24.479742",
     "status": "completed"
    },
    "tags": []
   },
   "outputs": [
    {
     "data": {
      "text/html": [
       "<div>\n",
       "<style scoped>\n",
       "    .dataframe tbody tr th:only-of-type {\n",
       "        vertical-align: middle;\n",
       "    }\n",
       "\n",
       "    .dataframe tbody tr th {\n",
       "        vertical-align: top;\n",
       "    }\n",
       "\n",
       "    .dataframe thead th {\n",
       "        text-align: right;\n",
       "    }\n",
       "</style>\n",
       "<table border=\"1\" class=\"dataframe\">\n",
       "  <thead>\n",
       "    <tr style=\"text-align: right;\">\n",
       "      <th></th>\n",
       "      <th>Total</th>\n",
       "      <th>Percent</th>\n",
       "    </tr>\n",
       "  </thead>\n",
       "  <tbody>\n",
       "    <tr>\n",
       "      <th>anatom_site_general_challenge</th>\n",
       "      <td>527</td>\n",
       "      <td>0.015909</td>\n",
       "    </tr>\n",
       "    <tr>\n",
       "      <th>age_approx</th>\n",
       "      <td>68</td>\n",
       "      <td>0.002053</td>\n",
       "    </tr>\n",
       "    <tr>\n",
       "      <th>sex</th>\n",
       "      <td>65</td>\n",
       "      <td>0.001962</td>\n",
       "    </tr>\n",
       "    <tr>\n",
       "      <th>image_name</th>\n",
       "      <td>0</td>\n",
       "      <td>0.000000</td>\n",
       "    </tr>\n",
       "    <tr>\n",
       "      <th>patient_id</th>\n",
       "      <td>0</td>\n",
       "      <td>0.000000</td>\n",
       "    </tr>\n",
       "  </tbody>\n",
       "</table>\n",
       "</div>"
      ],
      "text/plain": [
       "                               Total   Percent\n",
       "anatom_site_general_challenge    527  0.015909\n",
       "age_approx                        68  0.002053\n",
       "sex                               65  0.001962\n",
       "image_name                         0  0.000000\n",
       "patient_id                         0  0.000000"
      ]
     },
     "execution_count": 6,
     "metadata": {},
     "output_type": "execute_result"
    }
   ],
   "source": [
    "#Checking for missing values in the train set\n",
    "total = train.isnull().sum().sort_values(ascending=False)\n",
    "percent = train.isnull().mean().sort_values(ascending=False)\n",
    "missing_data = pd.concat([total, percent], axis=1, keys=['Total', 'Percent'])\n",
    "missing_data.head()"
   ]
  },
  {
   "cell_type": "code",
   "execution_count": 7,
   "metadata": {
    "execution": {
     "iopub.execute_input": "2020-08-17T01:35:25.129043Z",
     "iopub.status.busy": "2020-08-17T01:35:25.120956Z",
     "iopub.status.idle": "2020-08-17T01:35:25.143446Z",
     "shell.execute_reply": "2020-08-17T01:35:25.142611Z"
    },
    "papermill": {
     "duration": 0.225826,
     "end_time": "2020-08-17T01:35:25.143579",
     "exception": false,
     "start_time": "2020-08-17T01:35:24.917753",
     "status": "completed"
    },
    "tags": []
   },
   "outputs": [
    {
     "data": {
      "text/html": [
       "<div>\n",
       "<style scoped>\n",
       "    .dataframe tbody tr th:only-of-type {\n",
       "        vertical-align: middle;\n",
       "    }\n",
       "\n",
       "    .dataframe tbody tr th {\n",
       "        vertical-align: top;\n",
       "    }\n",
       "\n",
       "    .dataframe thead th {\n",
       "        text-align: right;\n",
       "    }\n",
       "</style>\n",
       "<table border=\"1\" class=\"dataframe\">\n",
       "  <thead>\n",
       "    <tr style=\"text-align: right;\">\n",
       "      <th></th>\n",
       "      <th>Total</th>\n",
       "      <th>Percent</th>\n",
       "    </tr>\n",
       "  </thead>\n",
       "  <tbody>\n",
       "    <tr>\n",
       "      <th>anatom_site_general_challenge</th>\n",
       "      <td>351</td>\n",
       "      <td>0.031961</td>\n",
       "    </tr>\n",
       "    <tr>\n",
       "      <th>image_name</th>\n",
       "      <td>0</td>\n",
       "      <td>0.000000</td>\n",
       "    </tr>\n",
       "    <tr>\n",
       "      <th>patient_id</th>\n",
       "      <td>0</td>\n",
       "      <td>0.000000</td>\n",
       "    </tr>\n",
       "    <tr>\n",
       "      <th>sex</th>\n",
       "      <td>0</td>\n",
       "      <td>0.000000</td>\n",
       "    </tr>\n",
       "    <tr>\n",
       "      <th>age_approx</th>\n",
       "      <td>0</td>\n",
       "      <td>0.000000</td>\n",
       "    </tr>\n",
       "  </tbody>\n",
       "</table>\n",
       "</div>"
      ],
      "text/plain": [
       "                               Total   Percent\n",
       "anatom_site_general_challenge    351  0.031961\n",
       "image_name                         0  0.000000\n",
       "patient_id                         0  0.000000\n",
       "sex                                0  0.000000\n",
       "age_approx                         0  0.000000"
      ]
     },
     "execution_count": 7,
     "metadata": {},
     "output_type": "execute_result"
    }
   ],
   "source": [
    "#Checking for missing values in the test set\n",
    "total = test.isnull().sum().sort_values(ascending=False)\n",
    "percent = test.isnull().mean().sort_values(ascending=False)\n",
    "missing_data = pd.concat([total, percent], axis=1, keys=['Total', 'Percent'])\n",
    "missing_data.head()"
   ]
  },
  {
   "cell_type": "markdown",
   "metadata": {
    "papermill": {
     "duration": 0.188146,
     "end_time": "2020-08-17T01:35:25.523727",
     "exception": false,
     "start_time": "2020-08-17T01:35:25.335581",
     "status": "completed"
    },
    "tags": []
   },
   "source": [
    "# Preparing Data for the Model"
   ]
  },
  {
   "cell_type": "code",
   "execution_count": 8,
   "metadata": {
    "execution": {
     "iopub.execute_input": "2020-08-17T01:35:25.909571Z",
     "iopub.status.busy": "2020-08-17T01:35:25.907135Z",
     "iopub.status.idle": "2020-08-17T01:35:25.921980Z",
     "shell.execute_reply": "2020-08-17T01:35:25.921236Z"
    },
    "papermill": {
     "duration": 0.213056,
     "end_time": "2020-08-17T01:35:25.922130",
     "exception": false,
     "start_time": "2020-08-17T01:35:25.709074",
     "status": "completed"
    },
    "tags": []
   },
   "outputs": [],
   "source": [
    "#Imputing missing values\n",
    "train['sex'] = train['sex'].fillna('male')\n",
    "train['age_approx'] = train['age_approx'].fillna(train['age_approx'].mean())\n",
    "train['anatom_site_general_challenge'] = train['anatom_site_general_challenge'].fillna('head/neck')\n",
    "test['anatom_site_general_challenge'] = test['anatom_site_general_challenge'].fillna('head/neck')"
   ]
  },
  {
   "cell_type": "code",
   "execution_count": 9,
   "metadata": {
    "execution": {
     "iopub.execute_input": "2020-08-17T01:35:26.309447Z",
     "iopub.status.busy": "2020-08-17T01:35:26.308602Z",
     "iopub.status.idle": "2020-08-17T01:35:26.386321Z",
     "shell.execute_reply": "2020-08-17T01:35:26.385516Z"
    },
    "papermill": {
     "duration": 0.278382,
     "end_time": "2020-08-17T01:35:26.386447",
     "exception": false,
     "start_time": "2020-08-17T01:35:26.108065",
     "status": "completed"
    },
    "tags": []
   },
   "outputs": [],
   "source": [
    "#Transforming the values into categorical\n",
    "from sklearn.preprocessing import LabelEncoder\n",
    "enc1 = LabelEncoder()\n",
    "enc2 = LabelEncoder()\n",
    "\n",
    "train['sex'] = enc1.fit_transform(train['sex'])\n",
    "train['anatom_site_general_challenge'] = enc2.fit_transform(train['anatom_site_general_challenge'])\n",
    "test['anatom_site_general_challenge'] = enc2.fit_transform(test['anatom_site_general_challenge'])"
   ]
  },
  {
   "cell_type": "code",
   "execution_count": 10,
   "metadata": {
    "execution": {
     "iopub.execute_input": "2020-08-17T01:35:26.887415Z",
     "iopub.status.busy": "2020-08-17T01:35:26.886483Z",
     "iopub.status.idle": "2020-08-17T01:35:31.127392Z",
     "shell.execute_reply": "2020-08-17T01:35:31.126540Z"
    },
    "papermill": {
     "duration": 4.555125,
     "end_time": "2020-08-17T01:35:31.127531",
     "exception": false,
     "start_time": "2020-08-17T01:35:26.572406",
     "status": "completed"
    },
    "tags": []
   },
   "outputs": [
    {
     "name": "stdout",
     "output_type": "stream",
     "text": [
      "REPLICAS:  1\n"
     ]
    }
   ],
   "source": [
    "#Detecting TPU\n",
    "try:\n",
    "    tpu = tf.distribute.cluster_resolver.TPUClusterResolver()\n",
    "    print('Running on TPU ', tpu.master())\n",
    "except ValueError:\n",
    "    tpu = None\n",
    "\n",
    "if tpu:\n",
    "    tf.config.experimental_connect_to_cluster(tpu)\n",
    "    tf.tpu.experimental.initialize_tpu_system(tpu)\n",
    "    strategy = tf.distribute.experimental.TPUStrategy(tpu)\n",
    "else:\n",
    "    strategy = tf.distribute.get_strategy()\n",
    "\n",
    "print(\"REPLICAS: \", strategy.num_replicas_in_sync)"
   ]
  },
  {
   "cell_type": "code",
   "execution_count": 11,
   "metadata": {
    "execution": {
     "iopub.execute_input": "2020-08-17T01:35:31.517252Z",
     "iopub.status.busy": "2020-08-17T01:35:31.516417Z",
     "iopub.status.idle": "2020-08-17T01:35:32.476304Z",
     "shell.execute_reply": "2020-08-17T01:35:32.475472Z"
    },
    "papermill": {
     "duration": 1.162859,
     "end_time": "2020-08-17T01:35:32.476433",
     "exception": false,
     "start_time": "2020-08-17T01:35:31.313574",
     "status": "completed"
    },
    "tags": []
   },
   "outputs": [],
   "source": [
    "#For tf.dataset\n",
    "AUTO = tf.data.experimental.AUTOTUNE\n",
    "\n",
    "#Accessing the data\n",
    "PATH = './isicdata/'"
   ]
  },
  {
   "cell_type": "code",
   "execution_count": 12,
   "metadata": {
    "execution": {
     "iopub.execute_input": "2020-08-17T01:35:33.132991Z",
     "iopub.status.busy": "2020-08-17T01:35:33.131918Z",
     "iopub.status.idle": "2020-08-17T01:35:33.135744Z",
     "shell.execute_reply": "2020-08-17T01:35:33.135084Z"
    },
    "papermill": {
     "duration": 0.476072,
     "end_time": "2020-08-17T01:35:33.135867",
     "exception": false,
     "start_time": "2020-08-17T01:35:32.659795",
     "status": "completed"
    },
    "tags": []
   },
   "outputs": [],
   "source": [
    "TRAINING_FILENAMES = tf.io.gfile.glob(PATH + '/tfrecords/train*.tfrec')\n",
    "TEST_FILENAMES = tf.io.gfile.glob(PATH + '/tfrecords/test*.tfrec')\n",
    "\n",
    "# TRAINING_FILENAMES = tf.io.gfile.glob(PATH + '/tfshort/train*.tfrec')\n",
    "# TEST_FILENAMES = tf.io.gfile.glob(PATH + '/tfshort/test*.tfrec')\n",
    "\n",
    "CLASSES = [0,1]   \n",
    "IMAGE_SIZE = [384, 384]\n",
    "BATCH_SIZE = 8 * strategy.num_replicas_in_sync"
   ]
  },
  {
   "cell_type": "code",
   "execution_count": 13,
   "metadata": {
    "execution": {
     "iopub.execute_input": "2020-08-17T01:35:33.540263Z",
     "iopub.status.busy": "2020-08-17T01:35:33.538933Z",
     "iopub.status.idle": "2020-08-17T01:35:33.543475Z",
     "shell.execute_reply": "2020-08-17T01:35:33.544251Z"
    },
    "papermill": {
     "duration": 0.22511,
     "end_time": "2020-08-17T01:35:33.544433",
     "exception": false,
     "start_time": "2020-08-17T01:35:33.319323",
     "status": "completed"
    },
    "tags": []
   },
   "outputs": [
    {
     "name": "stdout",
     "output_type": "stream",
     "text": [
      "Dataset: 32692 training images and 10982 unlabeled test images\n"
     ]
    }
   ],
   "source": [
    "import re\n",
    "def decode_image(image_data):\n",
    "    image = tf.image.decode_jpeg(image_data, channels=3)\n",
    "    image = tf.cast(image, tf.float32) / 255.0\n",
    "    image = tf.reshape(image, [*IMAGE_SIZE, 3])\n",
    "    return image\n",
    "\n",
    "def read_labeled_tfrecord(example):\n",
    "    LABELED_TFREC_FORMAT = {\n",
    "        \"image\": tf.io.FixedLenFeature([], tf.string), #tf.string means bytestring\n",
    "       \n",
    "        \"target\": tf.io.FixedLenFeature([], tf.int64),  #shape [] means single element\n",
    "    }\n",
    "    example = tf.io.parse_single_example(example, LABELED_TFREC_FORMAT)\n",
    "    image = decode_image(example['image'])\n",
    "    label = tf.cast(example['target'], tf.int32)\n",
    "    \n",
    "    return image, label #returns a dataset of (image, label) pairs\n",
    "\n",
    "def read_unlabeled_tfrecord(example):\n",
    "    UNLABELED_TFREC_FORMAT = {\n",
    "        \"image\": tf.io.FixedLenFeature([], tf.string),\n",
    "        \"image_name\": tf.io.FixedLenFeature([], tf.string),\n",
    "    }\n",
    "    example = tf.io.parse_single_example(example, UNLABELED_TFREC_FORMAT)\n",
    "    image = decode_image(example['image'])\n",
    "    idnum = example['image_name']\n",
    "    return image, idnum #returns a dataset of image(s)\n",
    "\n",
    "def load_dataset(filenames, labeled=True, ordered=False):\n",
    "    ignore_order = tf.data.Options()\n",
    "    if not ordered:\n",
    "        ignore_order.experimental_deterministic = False #disabling order, increasing speed\n",
    "    dataset = tf.data.TFRecordDataset(filenames, num_parallel_reads=AUTO) #automatically interleaving reads from multiple files\n",
    "    dataset = dataset.with_options(ignore_order) #using data as soon as it streams in, rather than in its original order\n",
    "    dataset = dataset.map(read_labeled_tfrecord if labeled else read_unlabeled_tfrecord, num_parallel_calls=AUTO)\n",
    "    #returns a dataset of (image, label) pairs if labeled=True or (image, id) pairs if labeled=False\n",
    "    return dataset\n",
    "\n",
    "def data_augment(image, label):\n",
    "    image = tf.image.random_flip_left_right(image)\n",
    "    image = tf.image.random_brightness(image, 0.1)\n",
    "    image = tf.image.random_flip_up_down(image)\n",
    "    #image = tf.image.random_saturation(image, 0, 2)\n",
    "    return image, label   \n",
    "    \n",
    "def get_training_dataset():\n",
    "    dataset = load_dataset(TRAINING_FILENAMES, labeled=True)\n",
    "    dataset = dataset.map(data_augment, num_parallel_calls=AUTO)\n",
    "    dataset = dataset.repeat() #the training dataset must repeat for several epochs\n",
    "    dataset = dataset.shuffle(2048)\n",
    "    dataset = dataset.batch(BATCH_SIZE)\n",
    "    dataset = dataset.prefetch(AUTO) #prefetching next batch while training (autotune prefetch buffer size)\n",
    "    return dataset\n",
    "\n",
    "def get_test_dataset(ordered=False):\n",
    "    dataset = load_dataset(TEST_FILENAMES, labeled=False, ordered=ordered)\n",
    "    dataset = dataset.batch(BATCH_SIZE)\n",
    "    dataset = dataset.prefetch(AUTO)\n",
    "    return dataset\n",
    "\n",
    "def count_data_items(filenames):\n",
    "    n = [int(re.compile(r\"-([0-9]*)\\.\").search(filename).group(1)) for filename in filenames]\n",
    "    return np.sum(n)\n",
    "\n",
    "NUM_TRAINING_IMAGES = count_data_items(TRAINING_FILENAMES)\n",
    "NUM_TEST_IMAGES = count_data_items(TEST_FILENAMES)\n",
    "STEPS_PER_EPOCH = NUM_TRAINING_IMAGES // BATCH_SIZE\n",
    "print('Dataset: {} training images and {} unlabeled test images'.format(NUM_TRAINING_IMAGES,NUM_TEST_IMAGES))"
   ]
  },
  {
   "cell_type": "markdown",
   "metadata": {
    "papermill": {
     "duration": 0.192159,
     "end_time": "2020-08-17T01:35:34.297772",
     "exception": false,
     "start_time": "2020-08-17T01:35:34.105613",
     "status": "completed"
    },
    "tags": []
   },
   "source": [
    "# Model"
   ]
  },
  {
   "cell_type": "code",
   "execution_count": 14,
   "metadata": {
    "execution": {
     "iopub.execute_input": "2020-08-17T01:35:35.835274Z",
     "iopub.status.busy": "2020-08-17T01:35:35.834236Z",
     "iopub.status.idle": "2020-08-17T01:35:35.837895Z",
     "shell.execute_reply": "2020-08-17T01:35:35.837301Z"
    },
    "papermill": {
     "duration": 0.198051,
     "end_time": "2020-08-17T01:35:35.838026",
     "exception": false,
     "start_time": "2020-08-17T01:35:35.639975",
     "status": "completed"
    },
    "tags": []
   },
   "outputs": [],
   "source": [
    "#Defining the parameters\n",
    "EPOCHS = 1"
   ]
  },
  {
   "cell_type": "code",
   "execution_count": 15,
   "metadata": {
    "execution": {
     "iopub.execute_input": "2020-08-17T01:35:36.224495Z",
     "iopub.status.busy": "2020-08-17T01:35:36.223325Z",
     "iopub.status.idle": "2020-08-17T01:35:36.226573Z",
     "shell.execute_reply": "2020-08-17T01:35:36.226001Z"
    },
    "papermill": {
     "duration": 0.200783,
     "end_time": "2020-08-17T01:35:36.226743",
     "exception": false,
     "start_time": "2020-08-17T01:35:36.025960",
     "status": "completed"
    },
    "tags": []
   },
   "outputs": [],
   "source": [
    "def build_lrfn(lr_start=0.00001, lr_max=0.0001, \n",
    "               lr_min=0.000001, lr_rampup_epochs=20, \n",
    "               lr_sustain_epochs=0, lr_exp_decay=.8):\n",
    "    lr_max = lr_max * strategy.num_replicas_in_sync\n",
    "\n",
    "    def lrfn(epoch):\n",
    "        if epoch < lr_rampup_epochs:\n",
    "            lr = (lr_max - lr_start) / lr_rampup_epochs * epoch + lr_start\n",
    "        elif epoch < lr_rampup_epochs + lr_sustain_epochs:\n",
    "            lr = lr_max\n",
    "        else:\n",
    "            lr = (lr_max - lr_min) * lr_exp_decay**(epoch - lr_rampup_epochs - lr_sustain_epochs) + lr_min\n",
    "        return lr\n",
    "    \n",
    "    return lrfn"
   ]
  },
  {
   "cell_type": "code",
   "execution_count": 16,
   "metadata": {
    "execution": {
     "iopub.execute_input": "2020-08-17T01:35:36.908763Z",
     "iopub.status.busy": "2020-08-17T01:35:36.907826Z",
     "iopub.status.idle": "2020-08-17T01:36:56.931452Z",
     "shell.execute_reply": "2020-08-17T01:36:56.929864Z"
    },
    "papermill": {
     "duration": 80.514087,
     "end_time": "2020-08-17T01:36:56.931702",
     "exception": false,
     "start_time": "2020-08-17T01:35:36.417615",
     "status": "completed"
    },
    "tags": []
   },
   "outputs": [
    {
     "name": "stdout",
     "output_type": "stream",
     "text": [
      "Metal device set to: Apple M1\n",
      "\n",
      "systemMemory: 16.00 GB\n",
      "maxCacheSize: 5.33 GB\n",
      "\n"
     ]
    },
    {
     "name": "stderr",
     "output_type": "stream",
     "text": [
      "2022-07-28 20:28:26.083457: I tensorflow/core/common_runtime/pluggable_device/pluggable_device_factory.cc:305] Could not identify NUMA node of platform GPU ID 0, defaulting to 0. Your kernel may not have been built with NUMA support.\n",
      "2022-07-28 20:28:26.083559: I tensorflow/core/common_runtime/pluggable_device/pluggable_device_factory.cc:271] Created TensorFlow device (/job:localhost/replica:0/task:0/device:GPU:0 with 0 MB memory) -> physical PluggableDevice (device: 0, name: METAL, pci bus id: <undefined>)\n"
     ]
    }
   ],
   "source": [
    "from tensorflow.keras.layers import Dense\n",
    "import efficientnet.tfkeras as efn\n",
    "\n",
    "\n",
    "with strategy.scope():\n",
    "    model = tf.keras.Sequential([\n",
    "        efn.EfficientNetB2(\n",
    "            input_shape=(*IMAGE_SIZE, 3),\n",
    "            weights='imagenet',\n",
    "            include_top=False\n",
    "        ),\n",
    "        L.GlobalAveragePooling2D(),\n",
    "        L.Dense(1024, activation = 'relu'), \n",
    "        L.Dropout(0.3), \n",
    "        L.Dense(512, activation= 'relu'), \n",
    "        L.Dropout(0.2), \n",
    "        L.Dense(256, activation='relu'), \n",
    "        L.Dropout(0.2), \n",
    "        L.Dense(128, activation='relu'), \n",
    "        L.Dropout(0.1), \n",
    "        L.Dense(1, activation='sigmoid')\n",
    "    ])"
   ]
  },
  {
   "cell_type": "code",
   "execution_count": 17,
   "metadata": {
    "execution": {
     "iopub.execute_input": "2020-08-17T01:36:57.842854Z",
     "iopub.status.busy": "2020-08-17T01:36:57.837682Z",
     "iopub.status.idle": "2020-08-17T01:36:58.018383Z",
     "shell.execute_reply": "2020-08-17T01:36:58.019049Z"
    },
    "papermill": {
     "duration": 0.454682,
     "end_time": "2020-08-17T01:36:58.019237",
     "exception": false,
     "start_time": "2020-08-17T01:36:57.564555",
     "status": "completed"
    },
    "tags": []
   },
   "outputs": [
    {
     "name": "stdout",
     "output_type": "stream",
     "text": [
      "Model: \"sequential\"\n",
      "_________________________________________________________________\n",
      " Layer (type)                Output Shape              Param #   \n",
      "=================================================================\n",
      " efficientnet-b2 (Functional  (None, 12, 12, 1408)     7768562   \n",
      " )                                                               \n",
      "                                                                 \n",
      " global_average_pooling2d (G  (None, 1408)             0         \n",
      " lobalAveragePooling2D)                                          \n",
      "                                                                 \n",
      " dense (Dense)               (None, 1024)              1442816   \n",
      "                                                                 \n",
      " dropout (Dropout)           (None, 1024)              0         \n",
      "                                                                 \n",
      " dense_1 (Dense)             (None, 512)               524800    \n",
      "                                                                 \n",
      " dropout_1 (Dropout)         (None, 512)               0         \n",
      "                                                                 \n",
      " dense_2 (Dense)             (None, 256)               131328    \n",
      "                                                                 \n",
      " dropout_2 (Dropout)         (None, 256)               0         \n",
      "                                                                 \n",
      " dense_3 (Dense)             (None, 128)               32896     \n",
      "                                                                 \n",
      " dropout_3 (Dropout)         (None, 128)               0         \n",
      "                                                                 \n",
      " dense_4 (Dense)             (None, 1)                 129       \n",
      "                                                                 \n",
      "=================================================================\n",
      "Total params: 9,900,531\n",
      "Trainable params: 9,832,963\n",
      "Non-trainable params: 67,568\n",
      "_________________________________________________________________\n"
     ]
    }
   ],
   "source": [
    "model.compile(\n",
    "    optimizer='Adam',\n",
    "    # loss = tf.keras.losses.BinaryCrossentropy(label_smoothing = 0.1),\n",
    "    # loss = 'sparse_categorical_crossentropy',\n",
    "    # loss = 'categorical_crossentropy',\n",
    "    loss = 'binary_crossentropy',\n",
    "    metrics=['binary_crossentropy', 'accuracy'],\n",
    "    # metrics=['accuracy'],\n",
    ")\n",
    "model.summary()"
   ]
  },
  {
   "cell_type": "code",
   "execution_count": 18,
   "metadata": {
    "execution": {
     "iopub.execute_input": "2020-08-17T01:36:58.413794Z",
     "iopub.status.busy": "2020-08-17T01:36:58.412735Z",
     "iopub.status.idle": "2020-08-17T01:36:58.416391Z",
     "shell.execute_reply": "2020-08-17T01:36:58.415668Z"
    },
    "papermill": {
     "duration": 0.204067,
     "end_time": "2020-08-17T01:36:58.416515",
     "exception": false,
     "start_time": "2020-08-17T01:36:58.212448",
     "status": "completed"
    },
    "tags": []
   },
   "outputs": [],
   "source": [
    "lrfn = build_lrfn()\n",
    "lr_schedule = tf.keras.callbacks.LearningRateScheduler(lrfn, verbose=1)"
   ]
  },
  {
   "cell_type": "code",
   "execution_count": 19,
   "metadata": {
    "execution": {
     "iopub.execute_input": "2020-08-17T01:36:58.805469Z",
     "iopub.status.busy": "2020-08-17T01:36:58.804535Z",
     "iopub.status.idle": "2020-08-17T01:36:58.808585Z",
     "shell.execute_reply": "2020-08-17T01:36:58.807886Z"
    },
    "papermill": {
     "duration": 0.200514,
     "end_time": "2020-08-17T01:36:58.808741",
     "exception": false,
     "start_time": "2020-08-17T01:36:58.608227",
     "status": "completed"
    },
    "tags": []
   },
   "outputs": [],
   "source": [
    "model.load_weights('./melamodel/melamodel_weights072.h5')"
   ]
  },
  {
   "cell_type": "code",
   "execution_count": 20,
   "metadata": {
    "execution": {
     "iopub.execute_input": "2020-08-17T01:36:59.205486Z",
     "iopub.status.busy": "2020-08-17T01:36:59.204682Z",
     "iopub.status.idle": "2020-08-17T02:47:16.129542Z",
     "shell.execute_reply": "2020-08-17T02:47:16.128779Z"
    },
    "papermill": {
     "duration": 4217.128642,
     "end_time": "2020-08-17T02:47:16.129700",
     "exception": false,
     "start_time": "2020-08-17T01:36:59.001058",
     "status": "completed"
    },
    "tags": []
   },
   "outputs": [
    {
     "name": "stdout",
     "output_type": "stream",
     "text": [
      "\n",
      "Epoch 1: LearningRateScheduler setting learning rate to 1e-05.\n"
     ]
    },
    {
     "name": "stderr",
     "output_type": "stream",
     "text": [
      "2022-07-28 16:06:02.095238: W tensorflow/core/platform/profile_utils/cpu_utils.cc:128] Failed to get CPU frequency: 0 Hz\n",
      "2022-07-28 16:06:07.304030: I tensorflow/core/grappler/optimizers/custom_graph_optimizer_registry.cc:113] Plugin optimizer for device_type GPU is enabled.\n"
     ]
    },
    {
     "name": "stdout",
     "output_type": "stream",
     "text": [
      "4086/4086 [==============================] - 4272s 1s/step - loss: 0.9515 - binary_crossentropy: 0.4716 - accuracy: 0.7355 - lr: 1.0000e-05\n"
     ]
    }
   ],
   "source": [
    "#Training the model\n",
    "history = model.fit(\n",
    "    get_training_dataset(),\n",
    "    epochs=EPOCHS,\n",
    "    steps_per_epoch=STEPS_PER_EPOCH,\n",
    "    callbacks=[lr_schedule],\n",
    "    class_weight = {0:1.00, 1: 55.00}\n",
    ")"
   ]
  },
  {
   "cell_type": "code",
   "execution_count": 21,
   "metadata": {
    "execution": {
     "iopub.execute_input": "2020-08-17T02:47:16.814345Z",
     "iopub.status.busy": "2020-08-17T02:47:16.805289Z",
     "iopub.status.idle": "2020-08-17T02:47:16.819410Z",
     "shell.execute_reply": "2020-08-17T02:47:16.818685Z"
    },
    "papermill": {
     "duration": 0.35166,
     "end_time": "2020-08-17T02:47:16.819702",
     "exception": false,
     "start_time": "2020-08-17T02:47:16.468042",
     "status": "completed"
    },
    "tags": []
   },
   "outputs": [
    {
     "data": {
      "text/html": [
       "<div>\n",
       "<style scoped>\n",
       "    .dataframe tbody tr th:only-of-type {\n",
       "        vertical-align: middle;\n",
       "    }\n",
       "\n",
       "    .dataframe tbody tr th {\n",
       "        vertical-align: top;\n",
       "    }\n",
       "\n",
       "    .dataframe thead th {\n",
       "        text-align: right;\n",
       "    }\n",
       "</style>\n",
       "<table border=\"1\" class=\"dataframe\">\n",
       "  <thead>\n",
       "    <tr style=\"text-align: right;\">\n",
       "      <th></th>\n",
       "      <th>loss</th>\n",
       "      <th>binary_crossentropy</th>\n",
       "      <th>accuracy</th>\n",
       "      <th>lr</th>\n",
       "      <th>epoch</th>\n",
       "    </tr>\n",
       "  </thead>\n",
       "  <tbody>\n",
       "    <tr>\n",
       "      <th>0</th>\n",
       "      <td>0.951546</td>\n",
       "      <td>0.471577</td>\n",
       "      <td>0.735499</td>\n",
       "      <td>0.00001</td>\n",
       "      <td>0</td>\n",
       "    </tr>\n",
       "  </tbody>\n",
       "</table>\n",
       "</div>"
      ],
      "text/plain": [
       "       loss  binary_crossentropy  accuracy       lr  epoch\n",
       "0  0.951546             0.471577  0.735499  0.00001      0"
      ]
     },
     "execution_count": 21,
     "metadata": {},
     "output_type": "execute_result"
    }
   ],
   "source": [
    "hist = pd.DataFrame(history.history)\n",
    "hist['epoch'] = history.epoch\n",
    "hist.tail()"
   ]
  },
  {
   "cell_type": "code",
   "execution_count": 22,
   "metadata": {
    "execution": {
     "iopub.execute_input": "2020-08-17T02:47:19.329609Z",
     "iopub.status.busy": "2020-08-17T02:47:19.324521Z",
     "iopub.status.idle": "2020-08-17T02:47:29.795160Z",
     "shell.execute_reply": "2020-08-17T02:47:29.794482Z"
    },
    "papermill": {
     "duration": 10.846374,
     "end_time": "2020-08-17T02:47:29.795302",
     "exception": false,
     "start_time": "2020-08-17T02:47:18.948928",
     "status": "completed"
    },
    "tags": []
   },
   "outputs": [],
   "source": [
    "model.save('melamodel.h5')"
   ]
  },
  {
   "cell_type": "code",
   "execution_count": 23,
   "metadata": {
    "execution": {
     "iopub.execute_input": "2020-08-17T02:47:30.483954Z",
     "iopub.status.busy": "2020-08-17T02:47:30.483190Z",
     "iopub.status.idle": "2020-08-17T02:47:35.316540Z",
     "shell.execute_reply": "2020-08-17T02:47:35.315865Z"
    },
    "papermill": {
     "duration": 5.183418,
     "end_time": "2020-08-17T02:47:35.316706",
     "exception": false,
     "start_time": "2020-08-17T02:47:30.133288",
     "status": "completed"
    },
    "tags": []
   },
   "outputs": [],
   "source": [
    "model.save_weights('melamodel_weights.h5')"
   ]
  },
  {
   "cell_type": "markdown",
   "metadata": {
    "papermill": {
     "duration": 0.328247,
     "end_time": "2020-08-17T02:47:35.980471",
     "exception": false,
     "start_time": "2020-08-17T02:47:35.652224",
     "status": "completed"
    },
    "tags": []
   },
   "source": [
    "# Predictions"
   ]
  },
  {
   "cell_type": "code",
   "execution_count": 24,
   "metadata": {
    "execution": {
     "iopub.execute_input": "2020-08-17T02:47:36.646924Z",
     "iopub.status.busy": "2020-08-17T02:47:36.646112Z",
     "iopub.status.idle": "2020-08-17T02:47:36.841643Z",
     "shell.execute_reply": "2020-08-17T02:47:36.840840Z"
    },
    "papermill": {
     "duration": 0.531316,
     "end_time": "2020-08-17T02:47:36.841773",
     "exception": false,
     "start_time": "2020-08-17T02:47:36.310457",
     "status": "completed"
    },
    "tags": []
   },
   "outputs": [],
   "source": [
    "test_ds = get_test_dataset(ordered=True)\n",
    "test_images_ds = test_ds.map(lambda image, idnum: image)"
   ]
  },
  {
   "cell_type": "code",
   "execution_count": 25,
   "metadata": {
    "execution": {
     "iopub.execute_input": "2020-08-17T02:47:37.510472Z",
     "iopub.status.busy": "2020-08-17T02:47:37.509563Z",
     "iopub.status.idle": "2020-08-17T02:49:27.617453Z",
     "shell.execute_reply": "2020-08-17T02:49:27.616610Z"
    },
    "papermill": {
     "duration": 110.446955,
     "end_time": "2020-08-17T02:49:27.617601",
     "exception": false,
     "start_time": "2020-08-17T02:47:37.170646",
     "status": "completed"
    },
    "tags": []
   },
   "outputs": [
    {
     "name": "stderr",
     "output_type": "stream",
     "text": [
      "2022-07-28 17:17:17.112194: I tensorflow/core/grappler/optimizers/custom_graph_optimizer_registry.cc:113] Plugin optimizer for device_type GPU is enabled.\n"
     ]
    },
    {
     "name": "stdout",
     "output_type": "stream",
     "text": [
      "    158/Unknown - 38s 229ms/step"
     ]
    },
    {
     "ename": "KeyboardInterrupt",
     "evalue": "",
     "output_type": "error",
     "traceback": [
      "\u001b[0;31m---------------------------------------------------------------------------\u001b[0m",
      "\u001b[0;31mKeyboardInterrupt\u001b[0m                         Traceback (most recent call last)",
      "\u001b[1;32m/Users/zx/Downloads/tensor_meladetec/base_model_training.ipynb Cell 29\u001b[0m in \u001b[0;36m<cell line: 1>\u001b[0;34m()\u001b[0m\n\u001b[0;32m----> <a href='vscode-notebook-cell:/Users/zx/Downloads/tensor_meladetec/base_model_training.ipynb#ch0000028?line=0'>1</a>\u001b[0m probabilities \u001b[39m=\u001b[39m model\u001b[39m.\u001b[39;49mpredict(test_images_ds)\n",
      "File \u001b[0;32m~/miniforge3/envs/tf/lib/python3.8/site-packages/keras/utils/traceback_utils.py:64\u001b[0m, in \u001b[0;36mfilter_traceback.<locals>.error_handler\u001b[0;34m(*args, **kwargs)\u001b[0m\n\u001b[1;32m     62\u001b[0m filtered_tb \u001b[39m=\u001b[39m \u001b[39mNone\u001b[39;00m\n\u001b[1;32m     63\u001b[0m \u001b[39mtry\u001b[39;00m:\n\u001b[0;32m---> 64\u001b[0m   \u001b[39mreturn\u001b[39;00m fn(\u001b[39m*\u001b[39;49margs, \u001b[39m*\u001b[39;49m\u001b[39m*\u001b[39;49mkwargs)\n\u001b[1;32m     65\u001b[0m \u001b[39mexcept\u001b[39;00m \u001b[39mException\u001b[39;00m \u001b[39mas\u001b[39;00m e:  \u001b[39m# pylint: disable=broad-except\u001b[39;00m\n\u001b[1;32m     66\u001b[0m   filtered_tb \u001b[39m=\u001b[39m _process_traceback_frames(e\u001b[39m.\u001b[39m__traceback__)\n",
      "File \u001b[0;32m~/miniforge3/envs/tf/lib/python3.8/site-packages/keras/engine/training.py:2031\u001b[0m, in \u001b[0;36mModel.predict\u001b[0;34m(self, x, batch_size, verbose, steps, callbacks, max_queue_size, workers, use_multiprocessing)\u001b[0m\n\u001b[1;32m   2029\u001b[0m \u001b[39mfor\u001b[39;00m _, iterator \u001b[39min\u001b[39;00m data_handler\u001b[39m.\u001b[39menumerate_epochs():  \u001b[39m# Single epoch.\u001b[39;00m\n\u001b[1;32m   2030\u001b[0m   \u001b[39mwith\u001b[39;00m data_handler\u001b[39m.\u001b[39mcatch_stop_iteration():\n\u001b[0;32m-> 2031\u001b[0m     \u001b[39mfor\u001b[39;00m step \u001b[39min\u001b[39;00m data_handler\u001b[39m.\u001b[39msteps():\n\u001b[1;32m   2032\u001b[0m       callbacks\u001b[39m.\u001b[39mon_predict_batch_begin(step)\n\u001b[1;32m   2033\u001b[0m       tmp_batch_outputs \u001b[39m=\u001b[39m \u001b[39mself\u001b[39m\u001b[39m.\u001b[39mpredict_function(iterator)\n",
      "File \u001b[0;32m~/miniforge3/envs/tf/lib/python3.8/site-packages/keras/engine/data_adapter.py:1248\u001b[0m, in \u001b[0;36mDataHandler.steps\u001b[0;34m(self)\u001b[0m\n\u001b[1;32m   1246\u001b[0m \u001b[39mif\u001b[39;00m \u001b[39mself\u001b[39m\u001b[39m.\u001b[39m_insufficient_data:  \u001b[39m# Set by `catch_stop_iteration`.\u001b[39;00m\n\u001b[1;32m   1247\u001b[0m   \u001b[39mbreak\u001b[39;00m\n\u001b[0;32m-> 1248\u001b[0m original_spe \u001b[39m=\u001b[39m \u001b[39mself\u001b[39;49m\u001b[39m.\u001b[39;49m_steps_per_execution\u001b[39m.\u001b[39;49mnumpy()\u001b[39m.\u001b[39mitem()\n\u001b[1;32m   1249\u001b[0m can_run_full_execution \u001b[39m=\u001b[39m (\n\u001b[1;32m   1250\u001b[0m     original_spe \u001b[39m==\u001b[39m \u001b[39m1\u001b[39m \u001b[39mor\u001b[39;00m\n\u001b[1;32m   1251\u001b[0m     \u001b[39mself\u001b[39m\u001b[39m.\u001b[39m_inferred_steps \u001b[39mis\u001b[39;00m \u001b[39mNone\u001b[39;00m \u001b[39mor\u001b[39;00m\n\u001b[1;32m   1252\u001b[0m     \u001b[39mself\u001b[39m\u001b[39m.\u001b[39m_inferred_steps \u001b[39m-\u001b[39m \u001b[39mself\u001b[39m\u001b[39m.\u001b[39m_current_step \u001b[39m>\u001b[39m\u001b[39m=\u001b[39m\n\u001b[1;32m   1253\u001b[0m     original_spe)\n\u001b[1;32m   1255\u001b[0m \u001b[39mif\u001b[39;00m can_run_full_execution:\n",
      "File \u001b[0;32m~/miniforge3/envs/tf/lib/python3.8/site-packages/tensorflow/python/ops/resource_variable_ops.py:637\u001b[0m, in \u001b[0;36mBaseResourceVariable.numpy\u001b[0;34m(self)\u001b[0m\n\u001b[1;32m    635\u001b[0m \u001b[39mdef\u001b[39;00m \u001b[39mnumpy\u001b[39m(\u001b[39mself\u001b[39m):\n\u001b[1;32m    636\u001b[0m   \u001b[39mif\u001b[39;00m context\u001b[39m.\u001b[39mexecuting_eagerly():\n\u001b[0;32m--> 637\u001b[0m     \u001b[39mreturn\u001b[39;00m \u001b[39mself\u001b[39;49m\u001b[39m.\u001b[39;49mread_value()\u001b[39m.\u001b[39;49mnumpy()\n\u001b[1;32m    638\u001b[0m   \u001b[39mraise\u001b[39;00m \u001b[39mNotImplementedError\u001b[39;00m(\n\u001b[1;32m    639\u001b[0m       \u001b[39m\"\u001b[39m\u001b[39mnumpy() is only available when eager execution is enabled.\u001b[39m\u001b[39m\"\u001b[39m)\n",
      "File \u001b[0;32m~/miniforge3/envs/tf/lib/python3.8/site-packages/tensorflow/python/framework/ops.py:1159\u001b[0m, in \u001b[0;36m_EagerTensorBase.numpy\u001b[0;34m(self)\u001b[0m\n\u001b[1;32m   1136\u001b[0m \u001b[39m\"\"\"Copy of the contents of this Tensor into a NumPy array or scalar.\u001b[39;00m\n\u001b[1;32m   1137\u001b[0m \n\u001b[1;32m   1138\u001b[0m \u001b[39mUnlike NumPy arrays, Tensors are immutable, so this method has to copy\u001b[39;00m\n\u001b[0;32m   (...)\u001b[0m\n\u001b[1;32m   1156\u001b[0m \u001b[39m    NumPy dtype.\u001b[39;00m\n\u001b[1;32m   1157\u001b[0m \u001b[39m\"\"\"\u001b[39;00m\n\u001b[1;32m   1158\u001b[0m \u001b[39m# TODO(slebedev): Consider avoiding a copy for non-CPU or remote tensors.\u001b[39;00m\n\u001b[0;32m-> 1159\u001b[0m maybe_arr \u001b[39m=\u001b[39m \u001b[39mself\u001b[39;49m\u001b[39m.\u001b[39;49m_numpy()  \u001b[39m# pylint: disable=protected-access\u001b[39;00m\n\u001b[1;32m   1160\u001b[0m \u001b[39mreturn\u001b[39;00m maybe_arr\u001b[39m.\u001b[39mcopy() \u001b[39mif\u001b[39;00m \u001b[39misinstance\u001b[39m(maybe_arr, np\u001b[39m.\u001b[39mndarray) \u001b[39melse\u001b[39;00m maybe_arr\n",
      "File \u001b[0;32m~/miniforge3/envs/tf/lib/python3.8/site-packages/tensorflow/python/framework/ops.py:1125\u001b[0m, in \u001b[0;36m_EagerTensorBase._numpy\u001b[0;34m(self)\u001b[0m\n\u001b[1;32m   1123\u001b[0m \u001b[39mdef\u001b[39;00m \u001b[39m_numpy\u001b[39m(\u001b[39mself\u001b[39m):\n\u001b[1;32m   1124\u001b[0m   \u001b[39mtry\u001b[39;00m:\n\u001b[0;32m-> 1125\u001b[0m     \u001b[39mreturn\u001b[39;00m \u001b[39mself\u001b[39;49m\u001b[39m.\u001b[39;49m_numpy_internal()\n\u001b[1;32m   1126\u001b[0m   \u001b[39mexcept\u001b[39;00m core\u001b[39m.\u001b[39m_NotOkStatusException \u001b[39mas\u001b[39;00m e:  \u001b[39m# pylint: disable=protected-access\u001b[39;00m\n\u001b[1;32m   1127\u001b[0m     \u001b[39mraise\u001b[39;00m core\u001b[39m.\u001b[39m_status_to_exception(e) \u001b[39mfrom\u001b[39;00m \u001b[39mNone\u001b[39m\n",
      "\u001b[0;31mKeyboardInterrupt\u001b[0m: "
     ]
    }
   ],
   "source": [
    "# probabilities = model.predict(test_images_ds)\n",
    "# test_ids_ds = test_ds.map(lambda image, idnum: idnum).unbatch()\n",
    "# test_ids = next(iter(test_ids_ds.batch(NUM_TEST_IMAGES))).numpy().astype('U') #all in one batch\n",
    "# pred_df = pd.DataFrame({'image_name': test_ids, 'target': np.concatenate(probabilities)})\n",
    "# pred_df.head()"
   ]
  },
  {
   "cell_type": "code",
   "execution_count": 24,
   "metadata": {},
   "outputs": [],
   "source": [
    "model.load_weights('./melamodel/melamodel_weights072.h5')"
   ]
  },
  {
   "cell_type": "code",
   "execution_count": 22,
   "metadata": {},
   "outputs": [],
   "source": [
    "# model.load_weights('./melamodel/melamodel_weights072.h5')"
   ]
  },
  {
   "cell_type": "code",
   "execution_count": 21,
   "metadata": {},
   "outputs": [
    {
     "ename": "ValueError",
     "evalue": "in user code:\n\n    File \"/Users/zx/miniforge3/envs/tf/lib/python3.8/site-packages/keras/engine/training.py\", line 1845, in predict_function  *\n        return step_function(self, iterator)\n    File \"/Users/zx/miniforge3/envs/tf/lib/python3.8/site-packages/keras/engine/training.py\", line 1834, in step_function  **\n        outputs = model.distribute_strategy.run(run_step, args=(data,))\n    File \"/Users/zx/miniforge3/envs/tf/lib/python3.8/site-packages/keras/engine/training.py\", line 1823, in run_step  **\n        outputs = model.predict_step(data)\n    File \"/Users/zx/miniforge3/envs/tf/lib/python3.8/site-packages/keras/engine/training.py\", line 1791, in predict_step\n        return self(x, training=False)\n    File \"/Users/zx/miniforge3/envs/tf/lib/python3.8/site-packages/keras/utils/traceback_utils.py\", line 67, in error_handler\n        raise e.with_traceback(filtered_tb) from None\n    File \"/Users/zx/miniforge3/envs/tf/lib/python3.8/site-packages/keras/engine/input_spec.py\", line 264, in assert_input_compatibility\n        raise ValueError(f'Input {input_index} of layer \"{layer_name}\" is '\n\n    ValueError: Input 0 of layer \"sequential\" is incompatible with the layer: expected shape=(None, 384, 384, 3), found shape=(None, 256, 256, 3)\n",
     "output_type": "error",
     "traceback": [
      "\u001b[0;31m---------------------------------------------------------------------------\u001b[0m",
      "\u001b[0;31mValueError\u001b[0m                                Traceback (most recent call last)",
      "\u001b[1;32m/Users/zx/Downloads/tensor_meladetec/base_model_training.ipynb Cell 32\u001b[0m in \u001b[0;36m<cell line: 9>\u001b[0;34m()\u001b[0m\n\u001b[1;32m      <a href='vscode-notebook-cell:/Users/zx/Downloads/tensor_meladetec/base_model_training.ipynb#ch0000029?line=6'>7</a>\u001b[0m image \u001b[39m=\u001b[39m tf\u001b[39m.\u001b[39mreshape(image, [\u001b[39m*\u001b[39mimg_size, \u001b[39m3\u001b[39m])\n\u001b[1;32m      <a href='vscode-notebook-cell:/Users/zx/Downloads/tensor_meladetec/base_model_training.ipynb#ch0000029?line=7'>8</a>\u001b[0m image \u001b[39m=\u001b[39m tf\u001b[39m.\u001b[39mexpand_dims(image, axis\u001b[39m=\u001b[39m\u001b[39m0\u001b[39m)\n\u001b[0;32m----> <a href='vscode-notebook-cell:/Users/zx/Downloads/tensor_meladetec/base_model_training.ipynb#ch0000029?line=8'>9</a>\u001b[0m pred \u001b[39m=\u001b[39m model\u001b[39m.\u001b[39;49mpredict(image)\n\u001b[1;32m     <a href='vscode-notebook-cell:/Users/zx/Downloads/tensor_meladetec/base_model_training.ipynb#ch0000029?line=9'>10</a>\u001b[0m \u001b[39mprint\u001b[39m(pred)\n\u001b[1;32m     <a href='vscode-notebook-cell:/Users/zx/Downloads/tensor_meladetec/base_model_training.ipynb#ch0000029?line=10'>11</a>\u001b[0m plt\u001b[39m.\u001b[39mtitle(\u001b[39mf\u001b[39m\u001b[39m'\u001b[39m\u001b[39mPrediction: \u001b[39m\u001b[39m{\u001b[39;00mpred[\u001b[39m0\u001b[39m][\u001b[39m0\u001b[39m]\u001b[39m}\u001b[39;00m\u001b[39m'\u001b[39m)\n",
      "File \u001b[0;32m~/miniforge3/envs/tf/lib/python3.8/site-packages/keras/utils/traceback_utils.py:67\u001b[0m, in \u001b[0;36mfilter_traceback.<locals>.error_handler\u001b[0;34m(*args, **kwargs)\u001b[0m\n\u001b[1;32m     65\u001b[0m \u001b[39mexcept\u001b[39;00m \u001b[39mException\u001b[39;00m \u001b[39mas\u001b[39;00m e:  \u001b[39m# pylint: disable=broad-except\u001b[39;00m\n\u001b[1;32m     66\u001b[0m   filtered_tb \u001b[39m=\u001b[39m _process_traceback_frames(e\u001b[39m.\u001b[39m__traceback__)\n\u001b[0;32m---> 67\u001b[0m   \u001b[39mraise\u001b[39;00m e\u001b[39m.\u001b[39mwith_traceback(filtered_tb) \u001b[39mfrom\u001b[39;00m \u001b[39mNone\u001b[39m\n\u001b[1;32m     68\u001b[0m \u001b[39mfinally\u001b[39;00m:\n\u001b[1;32m     69\u001b[0m   \u001b[39mdel\u001b[39;00m filtered_tb\n",
      "File \u001b[0;32m/var/folders/0k/369f7zf50c59w8dkhr5_kczr0000gn/T/__autograph_generated_fileopdpnu_3.py:15\u001b[0m, in \u001b[0;36mouter_factory.<locals>.inner_factory.<locals>.tf__predict_function\u001b[0;34m(iterator)\u001b[0m\n\u001b[1;32m     13\u001b[0m \u001b[39mtry\u001b[39;00m:\n\u001b[1;32m     14\u001b[0m     do_return \u001b[39m=\u001b[39m \u001b[39mTrue\u001b[39;00m\n\u001b[0;32m---> 15\u001b[0m     retval_ \u001b[39m=\u001b[39m ag__\u001b[39m.\u001b[39mconverted_call(ag__\u001b[39m.\u001b[39mld(step_function), (ag__\u001b[39m.\u001b[39mld(\u001b[39mself\u001b[39m), ag__\u001b[39m.\u001b[39mld(iterator)), \u001b[39mNone\u001b[39;00m, fscope)\n\u001b[1;32m     16\u001b[0m \u001b[39mexcept\u001b[39;00m:\n\u001b[1;32m     17\u001b[0m     do_return \u001b[39m=\u001b[39m \u001b[39mFalse\u001b[39;00m\n",
      "\u001b[0;31mValueError\u001b[0m: in user code:\n\n    File \"/Users/zx/miniforge3/envs/tf/lib/python3.8/site-packages/keras/engine/training.py\", line 1845, in predict_function  *\n        return step_function(self, iterator)\n    File \"/Users/zx/miniforge3/envs/tf/lib/python3.8/site-packages/keras/engine/training.py\", line 1834, in step_function  **\n        outputs = model.distribute_strategy.run(run_step, args=(data,))\n    File \"/Users/zx/miniforge3/envs/tf/lib/python3.8/site-packages/keras/engine/training.py\", line 1823, in run_step  **\n        outputs = model.predict_step(data)\n    File \"/Users/zx/miniforge3/envs/tf/lib/python3.8/site-packages/keras/engine/training.py\", line 1791, in predict_step\n        return self(x, training=False)\n    File \"/Users/zx/miniforge3/envs/tf/lib/python3.8/site-packages/keras/utils/traceback_utils.py\", line 67, in error_handler\n        raise e.with_traceback(filtered_tb) from None\n    File \"/Users/zx/miniforge3/envs/tf/lib/python3.8/site-packages/keras/engine/input_spec.py\", line 264, in assert_input_compatibility\n        raise ValueError(f'Input {input_index} of layer \"{layer_name}\" is '\n\n    ValueError: Input 0 of layer \"sequential\" is incompatible with the layer: expected shape=(None, 384, 384, 3), found shape=(None, 256, 256, 3)\n"
     ]
    },
    {
     "data": {
      "image/png": "[encoded data removed]",
      "text/plain": [
       "<Figure size 432x288 with 1 Axes>"
      ]
     },
     "metadata": {},
     "output_type": "display_data"
    }
   ],
   "source": [
    "# predict single image\n",
    "path = './isicdata/train/train/ISIC_0028026.jpg'\n",
    "image = plt.imread(path)\n",
    "plt.imshow(image)\n",
    "image = tf.cast(image, tf.float32) / 255.0\n",
    "img_size = [256, 256]\n",
    "image = tf.reshape(image, [*img_size, 3])\n",
    "image = tf.expand_dims(image, axis=0)\n",
    "pred = model.predict(image)\n",
    "print(pred)\n",
    "plt.title(f'Prediction: {pred[0][0]}')"
   ]
  },
  {
   "cell_type": "code",
   "execution_count": 10,
   "metadata": {},
   "outputs": [
    {
     "ename": "ValueError",
     "evalue": "Please specify the \"origin\" argument (URL of the file to download).",
     "output_type": "error",
     "traceback": [
      "\u001b[0;31m---------------------------------------------------------------------------\u001b[0m",
      "\u001b[0;31mValueError\u001b[0m                                Traceback (most recent call last)",
      "\u001b[1;32m/Users/zx/Downloads/tensor_meladetec/base_model_training.ipynb Cell 31\u001b[0m in \u001b[0;36m<cell line: 20>\u001b[0;34m()\u001b[0m\n\u001b[1;32m      <a href='vscode-notebook-cell:/Users/zx/Downloads/tensor_meladetec/base_model_training.ipynb#ch0000030?line=2'>3</a>\u001b[0m \u001b[39mimport\u001b[39;00m \u001b[39mtensorflow\u001b[39;00m \u001b[39mas\u001b[39;00m \u001b[39mtf\u001b[39;00m\n\u001b[1;32m      <a href='vscode-notebook-cell:/Users/zx/Downloads/tensor_meladetec/base_model_training.ipynb#ch0000030?line=4'>5</a>\u001b[0m \u001b[39m# model.load_weights('./workspace/clientResults/round-1-acc-0.88-weights-2022_07_28-17_30_30.npz')\u001b[39;00m\n\u001b[1;32m      <a href='vscode-notebook-cell:/Users/zx/Downloads/tensor_meladetec/base_model_training.ipynb#ch0000030?line=5'>6</a>\u001b[0m \u001b[39m# weights = np.load('./workspace/clientResults/round-1-acc-0.88-weights-2022_07_28-17_30_30.npz')\u001b[39;00m\n\u001b[1;32m      <a href='vscode-notebook-cell:/Users/zx/Downloads/tensor_meladetec/base_model_training.ipynb#ch0000030?line=6'>7</a>\u001b[0m \u001b[39m# weights_array = dict(zip((\"data1A\",\"data1B\",\"data1C\"), (weights[k] for k in weights)))\u001b[39;00m\n\u001b[0;32m   (...)\u001b[0m\n\u001b[1;32m     <a href='vscode-notebook-cell:/Users/zx/Downloads/tensor_meladetec/base_model_training.ipynb#ch0000030?line=15'>16</a>\u001b[0m \u001b[39m# w = np.load('./workspace/clientResults/round-1-acc-0.88-weights-2022_07_28-17_30_30.npz', allow_pickle=True)\u001b[39;00m\n\u001b[1;32m     <a href='vscode-notebook-cell:/Users/zx/Downloads/tensor_meladetec/base_model_training.ipynb#ch0000030?line=16'>17</a>\u001b[0m \u001b[39m# w['arr_0']\u001b[39;00m\n\u001b[0;32m---> <a href='vscode-notebook-cell:/Users/zx/Downloads/tensor_meladetec/base_model_training.ipynb#ch0000030?line=19'>20</a>\u001b[0m path \u001b[39m=\u001b[39m tf\u001b[39m.\u001b[39;49mkeras\u001b[39m.\u001b[39;49mutils\u001b[39m.\u001b[39;49mget_file(\u001b[39m'\u001b[39;49m\u001b[39m./workspace/clientResults/round-1-acc-0.88-weights-2022_07_28-17_30_30.npz\u001b[39;49m\u001b[39m'\u001b[39;49m)\n",
      "File \u001b[0;32m~/miniforge3/envs/tf/lib/python3.8/site-packages/keras/utils/data_utils.py:210\u001b[0m, in \u001b[0;36mget_file\u001b[0;34m(fname, origin, untar, md5_hash, file_hash, cache_subdir, hash_algorithm, extract, archive_format, cache_dir)\u001b[0m\n\u001b[1;32m    160\u001b[0m \u001b[39m\"\"\"Downloads a file from a URL if it not already in the cache.\u001b[39;00m\n\u001b[1;32m    161\u001b[0m \n\u001b[1;32m    162\u001b[0m \u001b[39mBy default the file at the url `origin` is downloaded to the\u001b[39;00m\n\u001b[0;32m   (...)\u001b[0m\n\u001b[1;32m    207\u001b[0m \u001b[39m    Path to the downloaded file\u001b[39;00m\n\u001b[1;32m    208\u001b[0m \u001b[39m\"\"\"\u001b[39;00m\n\u001b[1;32m    209\u001b[0m \u001b[39mif\u001b[39;00m origin \u001b[39mis\u001b[39;00m \u001b[39mNone\u001b[39;00m:\n\u001b[0;32m--> 210\u001b[0m   \u001b[39mraise\u001b[39;00m \u001b[39mValueError\u001b[39;00m(\u001b[39m'\u001b[39m\u001b[39mPlease specify the \u001b[39m\u001b[39m\"\u001b[39m\u001b[39morigin\u001b[39m\u001b[39m\"\u001b[39m\u001b[39m argument (URL of the file \u001b[39m\u001b[39m'\u001b[39m\n\u001b[1;32m    211\u001b[0m                    \u001b[39m'\u001b[39m\u001b[39mto download).\u001b[39m\u001b[39m'\u001b[39m)\n\u001b[1;32m    213\u001b[0m \u001b[39mif\u001b[39;00m cache_dir \u001b[39mis\u001b[39;00m \u001b[39mNone\u001b[39;00m:\n\u001b[1;32m    214\u001b[0m   cache_dir \u001b[39m=\u001b[39m os\u001b[39m.\u001b[39mpath\u001b[39m.\u001b[39mjoin(os\u001b[39m.\u001b[39mpath\u001b[39m.\u001b[39mexpanduser(\u001b[39m'\u001b[39m\u001b[39m~\u001b[39m\u001b[39m'\u001b[39m), \u001b[39m'\u001b[39m\u001b[39m.keras\u001b[39m\u001b[39m'\u001b[39m)\n",
      "\u001b[0;31mValueError\u001b[0m: Please specify the \"origin\" argument (URL of the file to download)."
     ]
    }
   ],
   "source": [
    "# import tensorlayer as tl\n",
    "import numpy as np\n",
    "import tensorflow as tf\n",
    "\n",
    "# model.load_weights('./workspace/clientResults/round-1-acc-0.88-weights-2022_07_28-17_30_30.npz')\n",
    "# weights = np.load('./workspace/clientResults/round-1-acc-0.88-weights-2022_07_28-17_30_30.npz')\n",
    "# weights_array = dict(zip((\"data1A\",\"data1B\",\"data1C\"), (weights[k] for k in weights)))\n",
    "# model.set_weights(weights)\n",
    "\n",
    "# # save np.load\n",
    "# np_load_old = np.load\n",
    "\n",
    "# # modify the default parameters of np.load\n",
    "# np.load = np_load_old(allow_pickle=True)\n",
    "\n",
    "# w = np.load('./workspace/clientResults/round-1-acc-0.88-weights-2022_07_28-17_30_30.npz', allow_pickle=True)\n",
    "# w['arr_0']\n",
    "\n",
    "\n"
   ]
  }
 ],
 "metadata": {
  "kernelspec": {
   "display_name": "Python 3.8.13",
   "language": "python",
   "name": "python3"
  },
  "language_info": {
   "codemirror_mode": {
    "name": "ipython",
    "version": 3
   },
   "file_extension": ".py",
   "mimetype": "text/x-python",
   "name": "python",
   "nbconvert_exporter": "python",
   "pygments_lexer": "ipython3",
   "version": "3.8.13"
  },
  "papermill": {
   "duration": 4573.839949,
   "end_time": "2020-08-17T02:49:43.882893",
   "environment_variables": {},
   "exception": null,
   "input_path": "__notebook__.ipynb",
   "output_path": "__notebook__.ipynb",
   "parameters": {},
   "start_time": "2020-08-17T01:33:30.042944",
   "version": "2.1.0"
  },
  "vscode": {
   "interpreter": {
    "hash": "c45a50d72ca843fc56fb80e80bdbab3d8521d17c72b625356821ed7b4ae8e4c0"
   }
  }
 },
 "nbformat": 4,
 "nbformat_minor": 4
}
